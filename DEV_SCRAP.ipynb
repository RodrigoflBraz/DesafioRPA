{
 "cells": [
  {
   "cell_type": "code",
   "execution_count": 1,
   "metadata": {},
   "outputs": [],
   "source": [
    "# pip install pandas\n",
    "# pip install selenium\n",
    "\n"
   ]
  },
  {
   "cell_type": "code",
   "execution_count": 5,
   "metadata": {},
   "outputs": [
    {
     "name": "stdout",
     "output_type": "stream",
     "text": [
      "Collecting chromedriver_autoinstaller\n",
      "  Downloading chromedriver_autoinstaller-0.6.3-py3-none-any.whl (7.6 kB)\n",
      "Collecting packaging>=23.1\n",
      "  Using cached packaging-23.2-py3-none-any.whl (53 kB)\n",
      "Installing collected packages: packaging, chromedriver-autoinstaller\n",
      "  Attempting uninstall: packaging\n",
      "    Found existing installation: packaging 21.3\n",
      "    Uninstalling packaging-21.3:\n",
      "      Successfully uninstalled packaging-21.3\n",
      "Successfully installed chromedriver-autoinstaller-0.6.3 packaging-23.2\n",
      "Note: you may need to restart the kernel to use updated packages.\n"
     ]
    },
    {
     "name": "stderr",
     "output_type": "stream",
     "text": [
      "ERROR: pip's dependency resolver does not currently take into account all the packages that are installed. This behaviour is the source of the following dependency conflicts.\n",
      "jupyter-server 1.13.5 requires pywinpty<2; os_name == \"nt\", but you have pywinpty 2.0.2 which is incompatible.\n"
     ]
    }
   ],
   "source": [
    "pip install chromedriver_autoinstaller"
   ]
  },
  {
   "cell_type": "markdown",
   "metadata": {},
   "source": [
    "Teste de LOG"
   ]
  },
  {
   "cell_type": "code",
   "execution_count": null,
   "metadata": {},
   "outputs": [],
   "source": [
    "from logger import Logger\n",
    "\n",
    "logger = Logger(r'D:\\ESTUDOS\\DesafioRPA\\logs_de_execucao')\n",
    "logger.info('Teste')\n",
    "\n",
    "try:\n",
    "    a = 0%0\n",
    "except Exception as e:\n",
    "    logger.error(f'Erro teste {e}')\n",
    "\n",
    "logger.close()"
   ]
  },
  {
   "cell_type": "code",
   "execution_count": 23,
   "metadata": {},
   "outputs": [
    {
     "name": "stdout",
     "output_type": "stream",
     "text": [
      "1\n"
     ]
    }
   ],
   "source": [
    "from selenium import webdriver\n",
    "import chromedriver_autoinstaller\n",
    "from selenium.webdriver.common.by import By\n",
    "from selenium.webdriver.common.keys import Keys\n",
    "from selenium.webdriver.chrome.options import Options\n",
    "from selenium.webdriver.common.desired_capabilities import DesiredCapabilities\n",
    "from selenium.webdriver.support.ui import WebDriverWait\n",
    "from selenium.webdriver.support import expected_conditions as EC\n",
    "from selenium.webdriver.support.ui import Select\n",
    "from selenium.webdriver.chrome.service import Service\n",
    "import time\n",
    "\n",
    "timeout = 5\n",
    "\n",
    "\n",
    "chromedriver_autoinstaller.install()\n",
    "chrome_options = Options()\n",
    "chrome_options.add_argument(\"--incognito\")\n",
    "driver = webdriver.Chrome( options=chrome_options)\n",
    "wait = WebDriverWait(driver, timeout)\n",
    "driver.maximize_window()\n",
    "\n",
    "driver.get(r\"https://www.reclameaqui.com.br\")\n",
    "\n",
    "xpath_botao_proximo = '//*[@id=\"homeRankings\"]/div/div[2]/nav/button[2]/svg/path'\n",
    "\n",
    "time.sleep(10)\n",
    "\n",
    "# Aguarde até que a div seja carregada (ou qualquer outra condição que você deseje)\n",
    "div_botao = WebDriverWait(driver, 10).until(\n",
    "    EC.presence_of_element_located((By.XPATH, '//*[@id=\"homeRankings\"]/div/div[2]/nav/div[2]'))\n",
    ")\n",
    "\n",
    "# Encontre todos os botões dentro da div\n",
    "botoes = div_botao.find_elements(By.TAG_NAME, 'button')\n",
    "\n",
    "# Itere sobre os botões e faça algo com eles (por exemplo, imprimir o texto)\n",
    "print(len(botoes))\n"
   ]
  },
  {
   "cell_type": "code",
   "execution_count": 9,
   "metadata": {},
   "outputs": [],
   "source": [
    "botao_moda.click()\n"
   ]
  }
 ],
 "metadata": {
  "kernelspec": {
   "display_name": "Python 3",
   "language": "python",
   "name": "python3"
  },
  "language_info": {
   "codemirror_mode": {
    "name": "ipython",
    "version": 3
   },
   "file_extension": ".py",
   "mimetype": "text/x-python",
   "name": "python",
   "nbconvert_exporter": "python",
   "pygments_lexer": "ipython3",
   "version": "3.9.12"
  }
 },
 "nbformat": 4,
 "nbformat_minor": 2
}
